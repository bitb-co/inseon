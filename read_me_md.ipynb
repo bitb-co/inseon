{
  "nbformat": 4,
  "nbformat_minor": 0,
  "metadata": {
    "colab": {
      "name": "read me.md",
      "provenance": [],
      "collapsed_sections": [],
      "authorship_tag": "ABX9TyO1fKFkmscPgRwigxn/SVI9",
      "include_colab_link": true
    },
    "kernelspec": {
      "name": "python3",
      "display_name": "Python 3"
    }
  },
  "cells": [
    {
      "cell_type": "markdown",
      "metadata": {
        "id": "view-in-github",
        "colab_type": "text"
      },
      "source": [
        "<a href=\"https://colab.research.google.com/github/bitb-co/inseon/blob/master/read_me_md.ipynb\" target=\"_parent\"><img src=\"https://colab.research.google.com/assets/colab-badge.svg\" alt=\"Open In Colab\"/></a>"
      ]
    },
    {
      "cell_type": "markdown",
      "metadata": {
        "id": "KsLOrvhKRezD",
        "colab_type": "text"
      },
      "source": [
        "#광주 인공지능 사관학교 프리코스 과제 목차\n",
        "##1주차 과제(2020.05.25)\n"
      ]
    }
  ]
}